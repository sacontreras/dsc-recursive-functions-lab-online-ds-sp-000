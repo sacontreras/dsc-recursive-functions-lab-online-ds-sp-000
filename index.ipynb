{
 "cells": [
  {
   "cell_type": "markdown",
   "metadata": {},
   "source": [
    "# Recursive Functions - Lab\n",
    "\n",
    "## Introduction\n",
    "\n",
    "Now that you've seen a little preview of recursive functions, it's time to give them a try!\n",
    "\n",
    "## Objectives\n",
    "\n",
    "You will be able to:\n",
    "\n",
    "* Describe the concept of a recursive function\n",
    "* Create a recursive function\n",
    "* Demonstrate how local scope changes with recursive functions\n",
    "* Compare depth first versus breadth first searches\n",
    "\n",
    "## Fibonacci\n",
    "\n",
    "The Fibonacci sequence starts off:\n",
    "1,1,2,3,5,8,13,21,34,...\n",
    "\n",
    "Each number is the sum of the two preceding. Write a recursive function that calculates the nth number of the Fibonacci sequence. For example, our sequence above would correspond to:\n",
    "\n",
    "fib(1) = 1 #The 1st element in the sequence is 1\n",
    "\n",
    "fib(2) = 1 #The 2nd element in the sequence is 1\n",
    "\n",
    "fib(3) = 2 #The 3rd element in the sequence is 2\n",
    "\n",
    "fib(4) = 3 #The 4th element in the sequence is 3\n",
    "\n",
    "fib(5) = 5 #The 5th element in the sequence is 5\n",
    "\n",
    "fib(6) = 8 #The 6th element in the sequence is 8\n",
    "\n",
    "fib(7) = 13 #The 7th element in the sequence is 13\n",
    "\n",
    "fib(8) = 21 #The 8th element in the sequence is 21\n",
    "\n",
    "fib(9) = 34 #The 9th element in the sequence is 34"
   ]
  },
  {
   "cell_type": "code",
   "execution_count": 1,
   "metadata": {},
   "outputs": [
    {
     "name": "stdout",
     "output_type": "stream",
     "text": [
      "fib(9) = 34\n",
      "fib(6) = 8\n",
      "fib(2) = 1\n",
      "fib(1) = 1\n",
      "n must be a natural number - i.e. n must be >= 1\n",
      "fib(0) = None\n",
      "n must be a natural number - i.e. n must be >= 1\n",
      "fib(-573) = None\n"
     ]
    }
   ],
   "source": [
    "# Your code here\n",
    "def fib(n):\n",
    "    if n <= 0:\n",
    "        print(f\"n must be a natural number - i.e. n must be >= 1\")\n",
    "        return None\n",
    "    if n==1 or n==2:\n",
    "        return 1\n",
    "    return fib(n-2) + fib(n-1)\n",
    "\n",
    "print(f\"fib(9) = {fib(9)}\")\n",
    "print(f\"fib(6) = {fib(6)}\")\n",
    "print(f\"fib(2) = {fib(2)}\")\n",
    "print(f\"fib(1) = {fib(1)}\")\n",
    "print(f\"fib(0) = {fib(0)}\")\n",
    "print(f\"fib(-573) = {fib(-573)}\")"
   ]
  },
  {
   "cell_type": "markdown",
   "metadata": {},
   "source": [
    "## Flat list\n",
    "\n",
    "Write a function that takes a nested list and flattens it to a list of ints, floats and strings.\n",
    "For example the nested list [1, [2, 3, [4, 5, 6]], 7, [8], [9, 10]] would become [1, 2, 3, 4, 5, 6, 7, 8, 9, 10] or \n",
    "[1, 2, [3, 4, [5]]] would become [1, 2, 3, 4, 5].\n",
    "\n",
    "> **Note**: Be careful how you initialize your function! See [this link](https://docs.quantifiedcode.com/python-anti-patterns/correctness/mutable_default_value_as_argument.html) for some potential pitfalls you could encounter if you're not careful!"
   ]
  },
  {
   "cell_type": "code",
   "execution_count": 2,
   "metadata": {},
   "outputs": [
    {
     "name": "stdout",
     "output_type": "stream",
     "text": [
      "flattened version of [1, [2, 3, [4, 5, 6]], 7, [8], [9, 10]] is: [1, 2, 3, 4, 5, 6, 7, 8, 9, 10]\n",
      "flattened version of [1, 2, [3, 4, [5]]] is: [1, 2, 3, 4, 5]\n"
     ]
    }
   ],
   "source": [
    "# Your code here\n",
    "def flat_list(L, flattened=None):\n",
    "    if flattened is None:\n",
    "        flattened = []\n",
    "    for item in L:\n",
    "        if type(item) is list:\n",
    "            flattened = flat_list(item, flattened)\n",
    "        else:\n",
    "            flattened.append(item)\n",
    "    return flattened\n",
    "\n",
    "L = [1, [2, 3, [4, 5, 6]], 7, [8], [9, 10]]\n",
    "print(f\"flattened version of {L} is: {flat_list(L)}\")\n",
    "L = [1, 2, [3, 4, [5]]]\n",
    "print(f\"flattened version of {L} is: {flat_list(L)}\")"
   ]
  },
  {
   "cell_type": "markdown",
   "metadata": {},
   "source": [
    "## Depth vs Breadth First Search\n",
    "\n",
    "Did you use breadth or depth first recursive calls above? Explain."
   ]
  },
  {
   "cell_type": "markdown",
   "metadata": {},
   "source": [
    "Each of the above calls is depth first since whenever a \"non-terminal\" case is encountered, that case is \"solved\" (recursed) before moving on to the next case.\n",
    "\n",
    "For `fib()`, a \"non-terminal\" case is encountered when $n \\ne 1$ AND $n \\ne 2$.\n",
    "\n",
    "For `flat_list()`, a non-terminal is encountered whenever whenever the item being iterated is a list,"
   ]
  },
  {
   "cell_type": "markdown",
   "metadata": {},
   "source": [
    "## Summary\n",
    "Well done! Recursive functions are an advanced topic in Python and you got some good practice tackling classic problems here."
   ]
  }
 ],
 "metadata": {
  "kernelspec": {
   "display_name": "Python [conda env:learn-env] *",
   "language": "python",
   "name": "conda-env-learn-env-py"
  },
  "language_info": {
   "codemirror_mode": {
    "name": "ipython",
    "version": 3
   },
   "file_extension": ".py",
   "mimetype": "text/x-python",
   "name": "python",
   "nbconvert_exporter": "python",
   "pygments_lexer": "ipython3",
   "version": "3.6.10"
  },
  "toc": {
   "base_numbering": 1,
   "nav_menu": {},
   "number_sections": true,
   "sideBar": true,
   "skip_h1_title": false,
   "title_cell": "Table of Contents",
   "title_sidebar": "Contents",
   "toc_cell": false,
   "toc_position": {},
   "toc_section_display": true,
   "toc_window_display": false
  }
 },
 "nbformat": 4,
 "nbformat_minor": 2
}
